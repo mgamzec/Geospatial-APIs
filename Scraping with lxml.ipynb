{
 "cells": [
  {
   "cell_type": "markdown",
   "metadata": {},
   "source": [
    "# Scraping HTML with lxml\n",
    "\n",
    "When you're looking at a web page there can be a big difference between what a web browser displays to you and what was actually sent to your web browser. For example:\n",
    "\n",
    "\n",
    "<br>\n",
    "<br>\n",
    "<div class=\"asdf\">\n",
    "    <div class=\"qwerty\">\n",
    "        <p class=\"para\">What you see:</p>\n",
    "    </div>\n",
    "    <div class=\"qwerty\">\n",
    "        <p class=\"para\">\n",
    "            Some datum:\n",
    "            <span id=\"data_id\" class=\"data-class\" style=\"font-weight: bold\">42</span>\n",
    "        </p>\n",
    "    </div>\n",
    "</div>\n",
    "\n",
    "What your computer sees:\n",
    "\n",
    "```\n",
    "<div class=\"asdf\">\n",
    "    <div class=\"qwerty\">\n",
    "        <p class=\"para\">What you see:</p>\n",
    "    </div>\n",
    "    <div class=\"qwerty\">\n",
    "        <p class=\"para\">\n",
    "            Some datum:\n",
    "            <span id=\"data_id\" class=\"data-class\" style=\"font-weight: bold\">42</span>\n",
    "        </p>\n",
    "    </div>\n",
    "</div>\n",
    "```"
   ]
  },
  {
   "cell_type": "markdown",
   "metadata": {},
   "source": [
    "lxml docs: http://lxml.de/lxmlhtml.html"
   ]
  },
  {
   "cell_type": "code",
   "execution_count": 1,
   "metadata": {},
   "outputs": [],
   "source": [
    "from lxml import html\n",
    "import requests"
   ]
  },
  {
   "cell_type": "markdown",
   "metadata": {},
   "source": [
    "### Some different ways of accessing elements"
   ]
  },
  {
   "cell_type": "code",
   "execution_count": 2,
   "metadata": {},
   "outputs": [],
   "source": [
    "fragment = \"\"\"\\\n",
    "<div class=\"asdf\">\n",
    "    <div class=\"qwerty\">\n",
    "        <p class=\"para\">What you see:</p>\n",
    "    </div>\n",
    "    <div class=\"qwerty\">\n",
    "        <p class=\"para\">\n",
    "            Some datum:\n",
    "            <span id=\"data_id\" class=\"data-class\" style=\"font-weight: bold\">42</span>\n",
    "        </p>\n",
    "    </div>\n",
    "</div>\n",
    "\"\"\""
   ]
  },
  {
   "cell_type": "code",
   "execution_count": 3,
   "metadata": {},
   "outputs": [
    {
     "data": {
      "text/plain": [
       "<Element div at 0x105930d68>"
      ]
     },
     "execution_count": 3,
     "metadata": {},
     "output_type": "execute_result"
    }
   ],
   "source": [
    "doc = html.fragment_fromstring(fragment)\n",
    "doc"
   ]
  },
  {
   "cell_type": "code",
   "execution_count": 4,
   "metadata": {},
   "outputs": [
    {
     "name": "stdout",
     "output_type": "stream",
     "text": [
      "<div class=\"asdf\">\n",
      "    <div class=\"qwerty\">\n",
      "        <p class=\"para\">What you see:</p>\n",
      "    </div>\n",
      "    <div class=\"qwerty\">\n",
      "        <p class=\"para\">\n",
      "            Some datum:\n",
      "            <span id=\"data_id\" class=\"data-class\" style=\"font-weight: bold\">42</span>\n",
      "        </p>\n",
      "    </div>\n",
      "</div>\n"
     ]
    }
   ],
   "source": [
    "print(html.tostring(doc, encoding='unicode'))"
   ]
  },
  {
   "cell_type": "markdown",
   "metadata": {},
   "source": [
    "Each of the following methods result in getting the same HTML element from the above fragment, but `get_element_by_id` only works if the element you're interested in has `id` attribute."
   ]
  },
  {
   "cell_type": "code",
   "execution_count": 5,
   "metadata": {},
   "outputs": [
    {
     "data": {
      "text/plain": [
       "<Element span at 0x105930908>"
      ]
     },
     "execution_count": 5,
     "metadata": {},
     "output_type": "execute_result"
    }
   ],
   "source": [
    "doc.get_element_by_id('data_id')"
   ]
  },
  {
   "cell_type": "code",
   "execution_count": 6,
   "metadata": {
    "scrolled": true
   },
   "outputs": [
    {
     "data": {
      "text/plain": [
       "[<Element span at 0x105930908>]"
      ]
     },
     "execution_count": 6,
     "metadata": {},
     "output_type": "execute_result"
    }
   ],
   "source": [
    "doc.xpath('div[2]/p/span')"
   ]
  },
  {
   "cell_type": "code",
   "execution_count": 7,
   "metadata": {},
   "outputs": [
    {
     "data": {
      "text/plain": [
       "[<Element span at 0x105930908>]"
      ]
     },
     "execution_count": 7,
     "metadata": {},
     "output_type": "execute_result"
    }
   ],
   "source": [
    "doc.cssselect(':nth-child(2) > p > span')"
   ]
  },
  {
   "cell_type": "markdown",
   "metadata": {},
   "source": [
    "Get the actual text content of elements using the `.text` attribute or the `.text_content()` method. `.text_content()` can be especially useful when you know you want the textual content of an element that contains sub-elements."
   ]
  },
  {
   "cell_type": "code",
   "execution_count": 8,
   "metadata": {},
   "outputs": [
    {
     "data": {
      "text/plain": [
       "'42'"
      ]
     },
     "execution_count": 8,
     "metadata": {},
     "output_type": "execute_result"
    }
   ],
   "source": [
    "doc.get_element_by_id('data_id').text"
   ]
  },
  {
   "cell_type": "code",
   "execution_count": 9,
   "metadata": {},
   "outputs": [
    {
     "data": {
      "text/plain": [
       "'42'"
      ]
     },
     "execution_count": 9,
     "metadata": {},
     "output_type": "execute_result"
    }
   ],
   "source": [
    "doc.xpath('div[2]/p/span')[0].text"
   ]
  },
  {
   "cell_type": "code",
   "execution_count": 10,
   "metadata": {},
   "outputs": [
    {
     "data": {
      "text/plain": [
       "'\\n    \\n        What you see:\\n    \\n    \\n        \\n            Some datum:\\n            42\\n        \\n    \\n'"
      ]
     },
     "execution_count": 10,
     "metadata": {},
     "output_type": "execute_result"
    }
   ],
   "source": [
    "doc.text_content()"
   ]
  },
  {
   "cell_type": "markdown",
   "metadata": {},
   "source": [
    "### Getting data from a web page"
   ]
  },
  {
   "cell_type": "markdown",
   "metadata": {},
   "source": [
    "Using `xpath` can be a quick way to get a specific element from a large document, if you know the `xpath` to use for your element.\n",
    "In Chrome you can right-click on an element, click Inspect, then right-click again on the HTML element in the inspector and click Copy > Copy XPath in the resulting menu to get an `xpath` copied onto your clipboard. Here's an example:\n",
    "\n",
    "```\n",
    "//*[@id=\"inner-content\"]/div[3]/div[1]/div[1]/div/city-current-conditions/div/div[2]/div/div/div[2]/display-unit/span/span[1]\n",
    "```\n",
    "\n",
    "When trying to parse data from a web page, use the [requests](http://docs.python-requests.org/en/master/) library to load the page, then pass the resulting string to lxml."
   ]
  },
  {
   "cell_type": "code",
   "execution_count": 11,
   "metadata": {},
   "outputs": [],
   "source": [
    "resp = requests.get('https://www.wunderground.com/weather/us/ca/san-francisco/94102')\n",
    "resp.raise_for_status()\n",
    "\n",
    "weather_doc = html.document_fromstring(resp.text)"
   ]
  },
  {
   "cell_type": "code",
   "execution_count": 12,
   "metadata": {},
   "outputs": [
    {
     "data": {
      "text/plain": [
       "<Element html at 0x10597b638>"
      ]
     },
     "execution_count": 12,
     "metadata": {},
     "output_type": "execute_result"
    }
   ],
   "source": [
    "weather_doc"
   ]
  },
  {
   "cell_type": "code",
   "execution_count": 13,
   "metadata": {},
   "outputs": [],
   "source": [
    "elem = weather_doc.xpath('//*[@id=\"inner-content\"]/div[3]/div[1]/div[1]/div/city-current-conditions/div/div[2]/div/div/div[2]/display-unit/span/span[1]')"
   ]
  },
  {
   "cell_type": "code",
   "execution_count": 14,
   "metadata": {},
   "outputs": [
    {
     "data": {
      "text/plain": [
       "'58'"
      ]
     },
     "execution_count": 14,
     "metadata": {},
     "output_type": "execute_result"
    }
   ],
   "source": [
    "elem[0].text_content()"
   ]
  },
  {
   "cell_type": "markdown",
   "metadata": {},
   "source": [
    "### Getting multiple elements\n",
    "\n",
    "If you aren't looking for one specific element, rather a specific _kind of element_, lxml has tools for that as well. For example, you can iterate through all of the `<a>` elements on page."
   ]
  },
  {
   "cell_type": "code",
   "execution_count": 15,
   "metadata": {},
   "outputs": [],
   "source": [
    "resp = requests.get('https://en.wikipedia.org/wiki/PyLadies')\n",
    "resp.raise_for_status()\n",
    "\n",
    "wiki_doc = html.document_fromstring(resp.text)"
   ]
  },
  {
   "cell_type": "code",
   "execution_count": 16,
   "metadata": {
    "scrolled": false
   },
   "outputs": [
    {
     "name": "stdout",
     "output_type": "stream",
     "text": [
      "None\n",
      "#mw-head\n",
      "#p-search\n",
      "/wiki/File:Question_book-new.svg\n",
      "/wiki/Wikipedia:Verifiability\n",
      "/wiki/Wikipedia:No_original_research#Primary.2C_secondary_and_tertiary_sources\n",
      "/wiki/Wikipedia:No_original_research#Primary.2C_secondary_and_tertiary_sources\n",
      "/wiki/Help:Maintenance_template_removal\n",
      "/wiki/Mentorship\n",
      "/wiki/Python_(programming_language)\n",
      "/wiki/Open-source_community\n",
      "#cite_note-1\n",
      "#cite_note-AboutPyLadies-2\n",
      "#cite_note-GitHub-3\n",
      "/wiki/Outreach\n",
      "/wiki/Los_Angeles\n",
      "#cite_note-4\n",
      "/wiki/Washington,_D.C.\n",
      "#cite_note-5\n",
      "#cite_note-6\n",
      "#Events\n",
      "#Activities\n",
      "#References\n",
      "#External_links\n",
      "/w/index.php?title=PyLadies&action=edit&section=1\n",
      "#cite_note-7\n",
      "#cite_note-Geek_Chicks-8\n",
      "#cite_note-PyLadies-9\n",
      "/w/index.php?title=PyLadies&action=edit&section=2\n",
      "/w/index.php?title=PyLadies&action=edit&section=3\n",
      "#cite_ref-1\n",
      "http://www.themarysue.com/pyladies/\n",
      "#cite_ref-AboutPyLadies_2-0\n",
      "http://www.pyladies.com/about/\n",
      "#cite_ref-GitHub_3-0\n",
      "https://github.com/pyladies/pyladies#readme\n",
      "#cite_ref-4\n",
      "http://heatherpayne.ca/review-of-pyladies-intro-to-python-workshop\n",
      "#cite_ref-5\n",
      "http://www.meetup.com/dc-pyladies/\n",
      "#cite_ref-6\n",
      "http://www.pyladies.com/locations/\n",
      "#cite_ref-7\n",
      "http://www.women2.com/pyladies-events-workshops-hackathons-and-startup-kits/\n",
      "#cite_ref-Geek_Chicks_8-0\n",
      "http://blogs.laweekly.com/arts/2012/02/pyladies_django_python.php\n",
      "#cite_ref-PyLadies_9-0\n",
      "http://www.pyladies.com/events/past-events\n",
      "/w/index.php?title=PyLadies&action=edit&section=4\n",
      "http://www.pyladies.com/\n",
      "/wiki/File:Ruzgar-deneme-y%C3%B6netici4.png\n",
      "/wiki/Wikipedia:Stub\n",
      "//en.wikipedia.org/w/index.php?title=PyLadies&action=edit\n",
      "/wiki/Template:Org-stub\n",
      "/wiki/Template_talk:Org-stub\n",
      "//en.wikipedia.org/w/index.php?title=Template:Org-stub&action=edit\n",
      "https://en.wikipedia.org/w/index.php?title=PyLadies&oldid=793991729\n",
      "/wiki/Help:Category\n",
      "/wiki/Category:Mentorships\n",
      "/wiki/Category:Computer-related_organizations\n",
      "/wiki/Category:Free_and_open-source_software_organizations\n",
      "/wiki/Category:Organizations_for_women_in_science_and_technology\n",
      "/wiki/Category:Software_developer_communities\n",
      "/wiki/Category:Organization_stubs\n",
      "/wiki/Category:Articles_lacking_reliable_references_from_August_2012\n",
      "/wiki/Category:All_articles_lacking_reliable_references\n",
      "/wiki/Category:All_stub_articles\n",
      "/wiki/Special:MyTalk\n",
      "/wiki/Special:MyContributions\n",
      "/w/index.php?title=Special:CreateAccount&returnto=PyLadies\n",
      "/w/index.php?title=Special:UserLogin&returnto=PyLadies\n",
      "/wiki/PyLadies\n",
      "/wiki/Talk:PyLadies\n",
      "/wiki/PyLadies\n",
      "/w/index.php?title=PyLadies&action=edit\n",
      "/w/index.php?title=PyLadies&action=history\n",
      "/wiki/Main_Page\n",
      "/wiki/Main_Page\n",
      "/wiki/Portal:Contents\n",
      "/wiki/Portal:Featured_content\n",
      "/wiki/Portal:Current_events\n",
      "/wiki/Special:Random\n",
      "https://donate.wikimedia.org/wiki/Special:FundraiserRedirector?utm_source=donate&utm_medium=sidebar&utm_campaign=C13_en.wikipedia.org&uselang=en\n",
      "//shop.wikimedia.org\n",
      "/wiki/Help:Contents\n",
      "/wiki/Wikipedia:About\n",
      "/wiki/Wikipedia:Community_portal\n",
      "/wiki/Special:RecentChanges\n",
      "//en.wikipedia.org/wiki/Wikipedia:Contact_us\n",
      "/wiki/Special:WhatLinksHere/PyLadies\n",
      "/wiki/Special:RecentChangesLinked/PyLadies\n",
      "/wiki/Wikipedia:File_Upload_Wizard\n",
      "/wiki/Special:SpecialPages\n",
      "/w/index.php?title=PyLadies&oldid=793991729\n",
      "/w/index.php?title=PyLadies&action=info\n",
      "https://www.wikidata.org/wiki/Special:EntityPage/Q7262796\n",
      "/w/index.php?title=Special:CiteThisPage&page=PyLadies&id=793991729\n",
      "/w/index.php?title=Special:Book&bookcmd=book_creator&referer=PyLadies\n",
      "/w/index.php?title=Special:ElectronPdf&page=PyLadies&action=show-download-screen\n",
      "/w/index.php?title=PyLadies&printable=yes\n",
      "https://pt.wikipedia.org/wiki/PyLadies\n",
      "https://www.wikidata.org/wiki/Special:EntityPage/Q7262796#sitelinks-wikipedia\n",
      "//en.wikipedia.org/wiki/Wikipedia:Text_of_Creative_Commons_Attribution-ShareAlike_3.0_Unported_License\n",
      "//creativecommons.org/licenses/by-sa/3.0/\n",
      "//wikimediafoundation.org/wiki/Terms_of_Use\n",
      "//wikimediafoundation.org/wiki/Privacy_policy\n",
      "//www.wikimediafoundation.org/\n",
      "https://wikimediafoundation.org/wiki/Privacy_policy\n",
      "/wiki/Wikipedia:About\n",
      "/wiki/Wikipedia:General_disclaimer\n",
      "//en.wikipedia.org/wiki/Wikipedia:Contact_us\n",
      "https://www.mediawiki.org/wiki/Special:MyLanguage/How_to_contribute\n",
      "https://wikimediafoundation.org/wiki/Cookie_statement\n",
      "//en.m.wikipedia.org/w/index.php?title=PyLadies&mobileaction=toggle_view_mobile\n",
      "https://wikimediafoundation.org/\n",
      "//www.mediawiki.org/\n"
     ]
    }
   ],
   "source": [
    "for elem in wiki_doc.iterdescendants('a'):\n",
    "    print(elem.get('href'))"
   ]
  },
  {
   "cell_type": "markdown",
   "metadata": {},
   "source": [
    "You could also combine `xpath` and `iterdescendants` to scrape `<a>` tags from a specific part of a web page."
   ]
  },
  {
   "cell_type": "code",
   "execution_count": 18,
   "metadata": {},
   "outputs": [
    {
     "name": "stdout",
     "output_type": "stream",
     "text": [
      "/wiki/File:Question_book-new.svg\n",
      "/wiki/Wikipedia:Verifiability\n",
      "/wiki/Wikipedia:No_original_research#Primary.2C_secondary_and_tertiary_sources\n",
      "/wiki/Wikipedia:No_original_research#Primary.2C_secondary_and_tertiary_sources\n",
      "/wiki/Help:Maintenance_template_removal\n",
      "/wiki/Mentorship\n",
      "/wiki/Python_(programming_language)\n",
      "/wiki/Open-source_community\n",
      "#cite_note-1\n",
      "#cite_note-AboutPyLadies-2\n",
      "#cite_note-GitHub-3\n",
      "/wiki/Outreach\n",
      "/wiki/Los_Angeles\n",
      "#cite_note-4\n",
      "/wiki/Washington,_D.C.\n",
      "#cite_note-5\n",
      "#cite_note-6\n",
      "#Events\n",
      "#Activities\n",
      "#References\n",
      "#External_links\n",
      "/w/index.php?title=PyLadies&action=edit&section=1\n",
      "#cite_note-7\n",
      "#cite_note-Geek_Chicks-8\n",
      "#cite_note-PyLadies-9\n",
      "/w/index.php?title=PyLadies&action=edit&section=2\n",
      "/w/index.php?title=PyLadies&action=edit&section=3\n",
      "#cite_ref-1\n",
      "http://www.themarysue.com/pyladies/\n",
      "#cite_ref-AboutPyLadies_2-0\n",
      "http://www.pyladies.com/about/\n",
      "#cite_ref-GitHub_3-0\n",
      "https://github.com/pyladies/pyladies#readme\n",
      "#cite_ref-4\n",
      "http://heatherpayne.ca/review-of-pyladies-intro-to-python-workshop\n",
      "#cite_ref-5\n",
      "http://www.meetup.com/dc-pyladies/\n",
      "#cite_ref-6\n",
      "http://www.pyladies.com/locations/\n",
      "#cite_ref-7\n",
      "http://www.women2.com/pyladies-events-workshops-hackathons-and-startup-kits/\n",
      "#cite_ref-Geek_Chicks_8-0\n",
      "http://blogs.laweekly.com/arts/2012/02/pyladies_django_python.php\n",
      "#cite_ref-PyLadies_9-0\n",
      "http://www.pyladies.com/events/past-events\n",
      "/w/index.php?title=PyLadies&action=edit&section=4\n",
      "http://www.pyladies.com/\n",
      "/wiki/File:Ruzgar-deneme-y%C3%B6netici4.png\n",
      "/wiki/Wikipedia:Stub\n",
      "//en.wikipedia.org/w/index.php?title=PyLadies&action=edit\n",
      "/wiki/Template:Org-stub\n",
      "/wiki/Template_talk:Org-stub\n",
      "//en.wikipedia.org/w/index.php?title=Template:Org-stub&action=edit\n"
     ]
    }
   ],
   "source": [
    "for elem in wiki_doc.xpath('//*[@id=\"mw-content-text\"]/div')[0].iterdescendants('a'):\n",
    "    print(elem.get('href'))"
   ]
  },
  {
   "cell_type": "markdown",
   "metadata": {},
   "source": [
    "### Tables\n",
    "\n",
    "Scraping data from tables into data structures like Pandas DataFrames can be its own special challenge, but if you're lucky Pandas' [read_html](http://pandas.pydata.org/pandas-docs/stable/generated/pandas.read_html.html#pandas.read_html) function might do all the work for you.\n",
    "\n",
    "#### Pandas"
   ]
  },
  {
   "cell_type": "code",
   "execution_count": 19,
   "metadata": {},
   "outputs": [],
   "source": [
    "import pandas as pd"
   ]
  },
  {
   "cell_type": "code",
   "execution_count": 20,
   "metadata": {},
   "outputs": [
    {
     "data": {
      "text/html": [
       "<div>\n",
       "<style scoped>\n",
       "    .dataframe tbody tr th:only-of-type {\n",
       "        vertical-align: middle;\n",
       "    }\n",
       "\n",
       "    .dataframe tbody tr th {\n",
       "        vertical-align: top;\n",
       "    }\n",
       "\n",
       "    .dataframe thead th {\n",
       "        text-align: right;\n",
       "    }\n",
       "</style>\n",
       "<table border=\"1\" class=\"dataframe\">\n",
       "  <thead>\n",
       "    <tr style=\"text-align: right;\">\n",
       "      <th></th>\n",
       "      <th>Col 1</th>\n",
       "      <th>Col 2</th>\n",
       "      <th>Col 3</th>\n",
       "    </tr>\n",
       "  </thead>\n",
       "  <tbody>\n",
       "    <tr>\n",
       "      <th>0</th>\n",
       "      <td>A</td>\n",
       "      <td>1</td>\n",
       "      <td>1.1</td>\n",
       "    </tr>\n",
       "    <tr>\n",
       "      <th>1</th>\n",
       "      <td>B</td>\n",
       "      <td>2</td>\n",
       "      <td>2.2</td>\n",
       "    </tr>\n",
       "    <tr>\n",
       "      <th>2</th>\n",
       "      <td>C</td>\n",
       "      <td>3</td>\n",
       "      <td>3.3</td>\n",
       "    </tr>\n",
       "    <tr>\n",
       "      <th>3</th>\n",
       "      <td>D</td>\n",
       "      <td>4</td>\n",
       "      <td>4.4</td>\n",
       "    </tr>\n",
       "    <tr>\n",
       "      <th>4</th>\n",
       "      <td>E</td>\n",
       "      <td>5</td>\n",
       "      <td>5.5</td>\n",
       "    </tr>\n",
       "  </tbody>\n",
       "</table>\n",
       "</div>"
      ],
      "text/plain": [
       "  Col 1  Col 2  Col 3\n",
       "0     A      1    1.1\n",
       "1     B      2    2.2\n",
       "2     C      3    3.3\n",
       "3     D      4    4.4\n",
       "4     E      5    5.5"
      ]
     },
     "execution_count": 20,
     "metadata": {},
     "output_type": "execute_result"
    }
   ],
   "source": [
    "tables = pd.read_html('https://jiffyclub.github.io/pyladies-2017-scraping/tables/example.html')\n",
    "tables[0]"
   ]
  },
  {
   "cell_type": "code",
   "execution_count": 21,
   "metadata": {},
   "outputs": [
    {
     "data": {
      "text/plain": [
       "Col 1     object\n",
       "Col 2      int64\n",
       "Col 3    float64\n",
       "dtype: object"
      ]
     },
     "execution_count": 21,
     "metadata": {},
     "output_type": "execute_result"
    }
   ],
   "source": [
    "tables[0].dtypes"
   ]
  },
  {
   "cell_type": "markdown",
   "metadata": {},
   "source": [
    "#### lxml\n",
    "\n",
    "If `pandas.read_html` doesn't work, you can always parse the data manually using lxml.\n",
    "First find the table element, then start working through its rows as appropriate for that table's structure."
   ]
  },
  {
   "cell_type": "code",
   "execution_count": 22,
   "metadata": {},
   "outputs": [],
   "source": [
    "resp = requests.get('https://jiffyclub.github.io/pyladies-2017-scraping/tables/example.html')\n",
    "resp.raise_for_status()\n",
    "\n",
    "table_doc = html.document_fromstring(resp.text)"
   ]
  },
  {
   "cell_type": "code",
   "execution_count": 23,
   "metadata": {},
   "outputs": [],
   "source": [
    "table_elem = table_doc.get_element_by_id('first-table')"
   ]
  },
  {
   "cell_type": "code",
   "execution_count": 24,
   "metadata": {},
   "outputs": [
    {
     "data": {
      "text/plain": [
       "<Element tr at 0x106b64228>"
      ]
     },
     "execution_count": 24,
     "metadata": {},
     "output_type": "execute_result"
    }
   ],
   "source": [
    "heading = table_elem.xpath('thead/tr')[0]\n",
    "heading"
   ]
  },
  {
   "cell_type": "code",
   "execution_count": 25,
   "metadata": {},
   "outputs": [
    {
     "data": {
      "text/plain": [
       "['Col 1', 'Col 2', 'Col 3']"
      ]
     },
     "execution_count": 25,
     "metadata": {},
     "output_type": "execute_result"
    }
   ],
   "source": [
    "col_names = [elem.text for elem in heading.iterchildren('td')]\n",
    "col_names"
   ]
  },
  {
   "cell_type": "code",
   "execution_count": 26,
   "metadata": {},
   "outputs": [
    {
     "data": {
      "text/plain": [
       "<Element tbody at 0x10996a8b8>"
      ]
     },
     "execution_count": 26,
     "metadata": {},
     "output_type": "execute_result"
    }
   ],
   "source": [
    "tbody = table_elem.xpath('tbody')[0]\n",
    "tbody"
   ]
  },
  {
   "cell_type": "code",
   "execution_count": 27,
   "metadata": {},
   "outputs": [
    {
     "data": {
      "text/plain": [
       "[['A', '1', '1.1'],\n",
       " ['B', '2', '2.2'],\n",
       " ['C', '3', '3.3'],\n",
       " ['D', '4', '4.4'],\n",
       " ['E', '5', '5.5']]"
      ]
     },
     "execution_count": 27,
     "metadata": {},
     "output_type": "execute_result"
    }
   ],
   "source": [
    "data_rows = []\n",
    "for row in tbody.iterchildren('tr'):\n",
    "    data_rows.append([elem.text.strip() for elem in row.iterchildren('td')])\n",
    "data_rows"
   ]
  },
  {
   "cell_type": "code",
   "execution_count": 28,
   "metadata": {},
   "outputs": [
    {
     "data": {
      "text/html": [
       "<div>\n",
       "<style scoped>\n",
       "    .dataframe tbody tr th:only-of-type {\n",
       "        vertical-align: middle;\n",
       "    }\n",
       "\n",
       "    .dataframe tbody tr th {\n",
       "        vertical-align: top;\n",
       "    }\n",
       "\n",
       "    .dataframe thead th {\n",
       "        text-align: right;\n",
       "    }\n",
       "</style>\n",
       "<table border=\"1\" class=\"dataframe\">\n",
       "  <thead>\n",
       "    <tr style=\"text-align: right;\">\n",
       "      <th></th>\n",
       "      <th>Col 1</th>\n",
       "      <th>Col 2</th>\n",
       "      <th>Col 3</th>\n",
       "    </tr>\n",
       "  </thead>\n",
       "  <tbody>\n",
       "    <tr>\n",
       "      <th>0</th>\n",
       "      <td>A</td>\n",
       "      <td>1</td>\n",
       "      <td>1.1</td>\n",
       "    </tr>\n",
       "    <tr>\n",
       "      <th>1</th>\n",
       "      <td>B</td>\n",
       "      <td>2</td>\n",
       "      <td>2.2</td>\n",
       "    </tr>\n",
       "    <tr>\n",
       "      <th>2</th>\n",
       "      <td>C</td>\n",
       "      <td>3</td>\n",
       "      <td>3.3</td>\n",
       "    </tr>\n",
       "    <tr>\n",
       "      <th>3</th>\n",
       "      <td>D</td>\n",
       "      <td>4</td>\n",
       "      <td>4.4</td>\n",
       "    </tr>\n",
       "    <tr>\n",
       "      <th>4</th>\n",
       "      <td>E</td>\n",
       "      <td>5</td>\n",
       "      <td>5.5</td>\n",
       "    </tr>\n",
       "  </tbody>\n",
       "</table>\n",
       "</div>"
      ],
      "text/plain": [
       "  Col 1 Col 2 Col 3\n",
       "0     A     1   1.1\n",
       "1     B     2   2.2\n",
       "2     C     3   3.3\n",
       "3     D     4   4.4\n",
       "4     E     5   5.5"
      ]
     },
     "execution_count": 28,
     "metadata": {},
     "output_type": "execute_result"
    }
   ],
   "source": [
    "df = pd.DataFrame(data=data_rows, columns=col_names)\n",
    "df"
   ]
  },
  {
   "cell_type": "code",
   "execution_count": null,
   "metadata": {},
   "outputs": [],
   "source": []
  }
 ],
 "metadata": {
  "anaconda-cloud": {},
  "kernelspec": {
   "display_name": "Python 3",
   "language": "python",
   "name": "python3"
  },
  "language_info": {
   "codemirror_mode": {
    "name": "ipython",
    "version": 3
   },
   "file_extension": ".py",
   "mimetype": "text/x-python",
   "name": "python",
   "nbconvert_exporter": "python",
   "pygments_lexer": "ipython3",
   "version": "3.6.3"
  }
 },
 "nbformat": 4,
 "nbformat_minor": 2
}
